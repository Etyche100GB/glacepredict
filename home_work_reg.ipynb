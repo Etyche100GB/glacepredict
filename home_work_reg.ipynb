{
 "cells": [
  {
   "cell_type": "code",
   "execution_count": 7,
   "id": "666f65b7",
   "metadata": {},
   "outputs": [],
   "source": [
    "import pandas as pd\n",
    "from sklearn.model_selection import train_test_split\n",
    "from sklearn.linear_model import LinearRegression\n",
    "import joblib"
   ]
  },
  {
   "cell_type": "code",
   "execution_count": 8,
   "id": "ae77703d",
   "metadata": {},
   "outputs": [
    {
     "name": "stdout",
     "output_type": "stream",
     "text": [
      "    marque  modele  taille  couleur  prix\n",
      "0        1       2      12        0    10\n",
      "1        1       2      12        0    10\n",
      "2        2       1       9        1    12\n",
      "3        1       3      15        3     6\n",
      "4        1       3      15        5     8\n",
      "5        1       3      13        3     4\n",
      "6        2       2      14        0    11\n",
      "7        3       1       9        1    20\n",
      "8        2       2      13        1    15\n",
      "9        2       2      10        2    14\n",
      "10       1       3      13        0     7\n",
      "11       1       2      15        0     4\n",
      "12       3       1      12        1    20\n",
      "13       2       1      10        2    17\n",
      "14       1       3      11        1    12\n",
      "15       3       1      13        0    19\n",
      "16       2       2      13        3    17\n",
      "17       2       2      15        0    11\n",
      "18       2       2      14        4    13\n",
      "19       2       1      15        3    15\n",
      "20       2       2      15        2    12\n",
      "21       1       2      15        0    10\n",
      "22       3       2      13        3     7\n",
      "23       1       1      10        1    20\n",
      "24       1       1      12        4    18\n",
      "25       3       3      14        0     4\n",
      "26       3       3      15        0     7\n",
      "27       1       2      13        4    16\n",
      "28       1       1      14        3    18\n",
      "29       2       1      14        3    18\n"
     ]
    }
   ],
   "source": [
    "data_set = pd.read_excel('homeWork_set.xlsx')\n",
    "print(data_set)"
   ]
  },
  {
   "cell_type": "code",
   "execution_count": 12,
   "id": "eb875ce3",
   "metadata": {},
   "outputs": [],
   "source": [
    "x = data_set[['marque','modele','taille','couleur']]\n",
    "y = data_set['prix']"
   ]
  },
  {
   "cell_type": "code",
   "execution_count": 13,
   "id": "5b0342e8",
   "metadata": {},
   "outputs": [
    {
     "name": "stdout",
     "output_type": "stream",
     "text": [
      "    marque  modele  taille  couleur\n",
      "27       1       2      13        4\n",
      "11       1       2      15        0\n",
      "17       2       2      15        0\n",
      "22       3       2      13        3\n",
      "5        1       3      13        3\n",
      "16       2       2      13        3\n",
      "8        2       2      13        1\n",
      "14       1       3      11        1\n",
      "23       1       1      10        1\n",
      "20       2       2      15        2\n",
      "1        1       2      12        0\n",
      "29       2       1      14        3\n",
      "6        2       2      14        0\n",
      "4        1       3      15        5\n",
      "18       2       2      14        4\n",
      "19       2       1      15        3\n",
      "9        2       2      10        2\n",
      "7        3       1       9        1\n",
      "25       3       3      14        0\n",
      "3        1       3      15        3\n",
      "0        1       2      12        0\n",
      "21       1       2      15        0\n",
      "15       3       1      13        0\n",
      "12       3       1      12        1\n"
     ]
    }
   ],
   "source": [
    "x_train,x_test,y_train,y_test = train_test_split(x,y,test_size=0.2,random_state=0)\n",
    "print(x_train)"
   ]
  },
  {
   "cell_type": "code",
   "execution_count": 15,
   "id": "4ccffe98",
   "metadata": {},
   "outputs": [
    {
     "data": {
      "text/plain": [
       "LinearRegression()"
      ]
     },
     "execution_count": 15,
     "metadata": {},
     "output_type": "execute_result"
    }
   ],
   "source": [
    "regress = LinearRegression()\n",
    "regress.fit(x_train,y_train) "
   ]
  },
  {
   "cell_type": "code",
   "execution_count": 16,
   "id": "380767a6",
   "metadata": {},
   "outputs": [
    {
     "data": {
      "text/plain": [
       "['home_work_corr.pkl']"
      ]
     },
     "execution_count": 16,
     "metadata": {},
     "output_type": "execute_result"
    }
   ],
   "source": [
    "joblib.dump(regress,'home_work_corr.pkl')"
   ]
  },
  {
   "cell_type": "code",
   "execution_count": null,
   "id": "d60d2062",
   "metadata": {},
   "outputs": [],
   "source": []
  }
 ],
 "metadata": {
  "kernelspec": {
   "display_name": "Python 3 (ipykernel)",
   "language": "python",
   "name": "python3"
  },
  "language_info": {
   "codemirror_mode": {
    "name": "ipython",
    "version": 3
   },
   "file_extension": ".py",
   "mimetype": "text/x-python",
   "name": "python",
   "nbconvert_exporter": "python",
   "pygments_lexer": "ipython3",
   "version": "3.9.7"
  }
 },
 "nbformat": 4,
 "nbformat_minor": 5
}
